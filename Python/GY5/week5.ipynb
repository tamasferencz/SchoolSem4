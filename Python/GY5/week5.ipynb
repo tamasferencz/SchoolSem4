{
 "cells": [
  {
   "cell_type": "markdown",
   "metadata": {},
   "source": [
    "# INTRODUCTION TO OBJECT ORIENTED PROGRAMMING"
   ]
  },
  {
   "cell_type": "markdown",
   "metadata": {},
   "source": [
    "**Object-Oriented Programming (OOP)** is a programming paradigm that uses \"objects\" and their interactions to design applications and software. Objects represent parts of the system and they interact by sending messages to each other. Each object is an instance of a class where the class defines the characteristics and behaviors that the object can perform.\n",
    "\n",
    "**OOP in Python** is a programming approach that combines data and the procedures that work on them into the same structure. Python is an object-oriented language, and its class mechanism adds classes with a minimum of new syntax and semantics. It is a mixture of the class mechanisms found in C++ and Modula-3.\n",
    "\n",
    "**Use of OOP in Python**: OOP makes code more reusable and makes it easier to work with larger programs. OOP programs are easy to understand since most of the real-world scenarios are object-oriented. It provides a clear modular structure for programs.\n",
    "\n",
    "**Importance of OOP**: OOP offers several benefits to the software development and programming process, including improved software-development productivity, improved software maintainability, faster development, lower cost of development, higher-quality software, and lower risk of project failure.\n",
    "\n",
    "**Roadmap to learn OOP**:\n",
    "\n",
    "1. Understand the basic concepts of OOP (Class, Object, Method)\n",
    "2. Learn about Inheritance and Polymorphism\n",
    "3. Learn about Encapsulation and Abstraction\n",
    "4. Practice creating classes and objects in Python\n",
    "5. Work on projects that require you to use OOP concepts\n",
    "\n",
    "\n",
    "\n"
   ]
  },
  {
   "cell_type": "markdown",
   "metadata": {},
   "source": [
    "The main principles of Object-Oriented Programming (OOP) are:\n",
    "\n",
    "1. **Inheritance**: This is a process of creating a new class from an existing class. The new class is a subclass of the existing class, and it inherits all the members (fields, methods) of the existing class. The existing class is known as the superclass. Inheritance helps to provide the reusability of code and can be used to add additional features to an existing class without modifying it.\n",
    "\n",
    "2. **Polymorphism**: This allows methods to be used in the same way even though they may be behaving differently. The method to be invoked is determined at runtime based on the type of the object. So, a single method, or operator functioning in many ways in different instances is known as polymorphism.\n",
    "\n",
    "3. **Encapsulation**: This is the practice of keeping fields within a class private, then providing access to them via public methods. It’s a protective barrier that keeps the data and code safe within the class itself. This way, we are hiding the actual implementation of an object from the outside world.\n",
    "\n",
    "4. **Abstraction**: Abstraction is a process where you show only “relevant” data and “hide” unnecessary details of an object from the user. This can be achieved by creating classes (blueprint of an object), creating objects (instances of a class), and using interfaces and abstract classes."
   ]
  },
  {
   "cell_type": "markdown",
   "metadata": {},
   "source": [
    "let's break down the basic concepts of Object-Oriented Programming (OOP):\n",
    "\n",
    "1. **Class**: A class is a blueprint for creating objects. It's a logical entity that has some specific attributes and methods. For example, if you have a student class, then it should contain an attribute and method viz name, standard, age, etc.\n",
    "\n",
    "    ```python\n",
    "    class Student:\n",
    "    # Class variable\n",
    "        school = \"ABC School\"\n",
    "\n",
    "    # Constructor method\n",
    "        def __init__(self, name, age):\n",
    "        # Instance variables\n",
    "            self.name = name\n",
    "            self.age = age\n",
    "    ```\n",
    "    **__init__**: __init__ is a special method in Python known as the constructor method. It is automatically called when a new instance of the class is created. The __init__ method is used to initialize the attributes (properties) of the object with the values provided during instantiation.The __init__() function is called automatically every time the class is being used to create a new object.\n",
    "\n",
    "2. **Object**: An object is an instance of a class.When you create an instance of a class, you're essentially creating an object that encapsulates the data (attributes) and behaviors (methods) defined in the class. Each instance has its own separate set of data, and changes to one instance do not affect other instances.\n",
    "\n",
    "\n",
    "    ```python\n",
    "    # Creating objects of the Student class\n",
    "        student1 = Student()\n",
    "        student2 = Student()\n",
    "    ```\n",
    "\n",
    "3. **Method**: Methods are functions defined inside the body of a class. They are used to define the behaviors of an object.\n",
    "\n",
    "    ```python\n",
    "    def display_info(self):\n",
    "        print(f\"Name: {self.name}\")\n",
    "        print(f\"Age: {self.age}\")\n",
    "        print(f\"School: {self.school}\")\n",
    "\n",
    "    # Creating an object of the Student class\n",
    "    student = Student()\n",
    "\n",
    "    # Calling the method\n",
    "    student.register(\"John\", 20)\n",
    "    ```"
   ]
  },
  {
   "cell_type": "markdown",
   "metadata": {},
   "source": [
    "**PRINCIPLES OF OOP:**\n",
    "\n",
    "\n",
    "1. **INHERITANCE**:\n",
    "    Inheritance is a fundamental concept in Object-Oriented Programming (OOP) where a new class is formed using properties and methods of an existing class. The new class is known as the derived (or child) class, and the one whose properties are inherited is known as the base (or parent) class.\n",
    "\n",
    "    Python supports inheritance, and it provides a rich set of mechanisms to make the derived class(child class) inherit, override, or extend the properties and behaviors of the base class(parent class).\n",
    "\n",
    "    Python also has a super() function that will make the child class inherit all the methods and properties from its parent:\n",
    "\n",
    "    Here's a simple example of inheritance in Python:\n",
    "    ```python\n",
    "    # Define a new class called HighSchoolStudent that inherits from the Student class\n",
    "    class HighSchoolStudent(Student):\n",
    "    # Override the display_info method or I can create a new method\n",
    "        def display_info(self):\n",
    "            super().display_info()  # Call the display_info method of the parent class\n",
    "            print(\"Grade: 10\")  # Add additional information specific to HighSchoolStudent\n",
    "\n",
    "    # Create an instance of the HighSchoolStudent class\n",
    "    high_school_student1 = HighSchoolStudent(\"Mike\", 16)\n",
    "    high_school_student1.display_info()  # Call the display_info method of the HighSchoolStudent class\n",
    "    ```\n"
   ]
  },
  {
   "cell_type": "markdown",
   "metadata": {},
   "source": [
    "2. **Polymorphism** The word \"polymorphism\" means \"many forms\", and in programming it refers to methods/functions/operators with the same name that can be executed on many objects or classes. In Python, polymorphism allows us to  define methods in the child class with the same name as defined in their parent class.\n",
    "\n",
    "    In your code, you have a `Student` class and a `HighSchoolStudent` class that inherits from the `Student` class. Both classes have a method named `display_info`. This is an example of polymorphism. When you call `display_info` on a `Student` object, it executes the `Student` version of the method. When you call `display_info` on a `HighSchoolStudent` object, it executes the `HighSchoolStudent` version of the method.\n",
    "\n",
    "    Let's extend the code to add another class `UniversityStudent` that also has a `display_info` method:\n",
    "\n",
    "    ```python\n",
    "    class UniversityStudent(Student):\n",
    "    def __init__(self, name, age, university):\n",
    "        super().__init__(name, age)\n",
    "        self.university = university\n",
    "\n",
    "    def display_info(self):\n",
    "        super().display_info()  # Call the display_info method of the parent class\n",
    "        print(f\"University: {self.university}\")  # Add additional information specific to UniversityStudent\n",
    "\n",
    "    # Create an instance of the UniversityStudent class\n",
    "    university_student1 = UniversityStudent(\"Alice\", 20, \"XYZ University\")\n",
    "    university_student1.display_info()\n",
    "    ```\n",
    "\n",
    "    In this extended code, `UniversityStudent` is another derived class that inherits from the `Student` base class. It adds a new attribute `university` and overrides the `display_info` method to also display the university. When we call `display_info` on a `UniversityStudent` object, it executes the `UniversityStudent` version of the method. This is polymorphism."
   ]
  },
  {
   "cell_type": "markdown",
   "metadata": {},
   "source": [
    "3. **Encapsulation** is one of the fundamental concepts in object-oriented programming (OOP). It describes the idea of wrapping data and the methods that work on data within one unit. This puts restrictions on accessing variables and methods directly and can prevent the accidental modification of data. To achieve this, we use private attributes and provide public getter and setter methods to modify these private attributes.\n",
    "\n",
    "    Here's how you can extend the `Student` class to demonstrate encapsulation:\n",
    "\n"
   ]
  },
  {
   "cell_type": "code",
   "execution_count": 1,
   "metadata": {},
   "outputs": [
    {
     "name": "stdout",
     "output_type": "stream",
     "text": [
      "John\n",
      "15\n",
      "Jane\n",
      "16\n"
     ]
    }
   ],
   "source": [
    "class Student:\n",
    "    def __init__(self, name, age):\n",
    "        self._name = name  # _name is a private attribute\n",
    "        self._age = age  # _age is a private attribute\n",
    "\n",
    "    # Getter method for name\n",
    "    @property\n",
    "    def name(self):\n",
    "        return self._name\n",
    "\n",
    "    # Setter method for name\n",
    "    @name.setter\n",
    "    def name(self, name):\n",
    "        if isinstance(name, str) and len(name) > 0:\n",
    "            self._name = name\n",
    "        else:\n",
    "            print(\"Invalid name\")\n",
    "\n",
    "    # Getter method for age\n",
    "    @property\n",
    "    def age(self):\n",
    "        return self._age\n",
    "\n",
    "    # Setter method for age\n",
    "    @age.setter\n",
    "    def age(self, age):\n",
    "        if isinstance(age, int) and 0 < age < 120:\n",
    "            self._age = age\n",
    "        else:\n",
    "            print(\"Invalid age\")\n",
    "\n",
    "# Create an instance of the Student class\n",
    "student1 = Student(\"John\", 15)\n",
    "\n",
    "# Access the name and age using the getter methods\n",
    "print(student1.name)  # Output: John\n",
    "print(student1.age)  # Output: 15\n",
    "\n",
    "# Modify the name and age using the setter methods\n",
    "student1.name = \"Jane\"\n",
    "student1.age = 16\n",
    "\n",
    "# Access the updated name and age\n",
    "print(student1.name)  # Output: Jane\n",
    "print(student1.age)  # Output: 16"
   ]
  },
  {
   "cell_type": "markdown",
   "metadata": {},
   "source": [
    "\n",
    "\n",
    "In this example, `_name` and `_age` are private attributes. We use the `@property` decorator to define getter methods for these attributes, and the `@name.setter` and `@age.setter` decorators to define setter methods. The setter methods include validation to ensure that the `name` is a non-empty string and the `age` is a positive integer less than 120."
   ]
  },
  {
   "cell_type": "markdown",
   "metadata": {},
   "source": [
    "4. **Abstraction** in Python OOP is the process of hiding the real implementation of an application from the user and emphasizing only the usage of it. For example, consider a vehicle like a car. The user only knows that pressing the accelerators will increase the speed of the car. They do not need to know how pressing the accelerator increases the speed. The complexity of what happens when the accelerator is pressed is abstracted away from the user.\n",
    "\n",
    "    In Python, we can achieve abstraction using abstract classes and methods. An abstract class is a class that contains one or more abstract methods. An abstract method is a method that has a declaration but does not have an implementation.\n",
    "\n",
    "    Here's how you can extend the existing code to demonstrate abstraction:\n",
    "\n"
   ]
  },
  {
   "cell_type": "code",
   "execution_count": 2,
   "metadata": {},
   "outputs": [
    {
     "name": "stdout",
     "output_type": "stream",
     "text": [
      "NameMike, Age: 16\n",
      "Grade: 10\n"
     ]
    }
   ],
   "source": [
    "from abc import ABC, abstractmethod\n",
    "\n",
    "class Student(ABC):\n",
    "    def __init__(self, name, age):\n",
    "        self.name = name\n",
    "        self.age = age\n",
    "\n",
    "    @abstractmethod\n",
    "    def display_info(self):\n",
    "        pass\n",
    "\n",
    "class HighSchoolStudent(Student):\n",
    "    def display_info(self):\n",
    "        print(f\"Name{self.name}, Age: {self.age}\")\n",
    "        print(\"Grade: 10\")\n",
    "\n",
    "# Create an instance of the HighSchoolStudent class\n",
    "high_school_student1 = HighSchoolStudent(\"Mike\", 16)\n",
    "high_school_student1.display_info()"
   ]
  },
  {
   "cell_type": "markdown",
   "metadata": {},
   "source": [
    "In this code, `Student` is an abstract base class (ABC) that defines the abstract method `display_info`. `HighSchoolStudent` is a concrete class that provides an implementation for the `display_info` method. We can create an instance of `HighSchoolStudent` and call `display_info`, but we cannot create an instance of `Student` because it's an abstract base class."
   ]
  },
  {
   "cell_type": "markdown",
   "metadata": {},
   "source": [
    "### HOMEWORK"
   ]
  },
  {
   "cell_type": "markdown",
   "metadata": {},
   "source": [
    "Lab 5.1 5.2 5.3"
   ]
  }
 ],
 "metadata": {
  "kernelspec": {
   "display_name": "Python 3 (ipykernel)",
   "language": "python",
   "name": "python3"
  },
  "language_info": {
   "codemirror_mode": {
    "name": "ipython",
    "version": 3
   },
   "file_extension": ".py",
   "mimetype": "text/x-python",
   "name": "python",
   "nbconvert_exporter": "python",
   "pygments_lexer": "ipython3",
   "version": "3.12.2"
  }
 },
 "nbformat": 4,
 "nbformat_minor": 4
}
