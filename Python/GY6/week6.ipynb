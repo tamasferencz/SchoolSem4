{
 "cells": [
  {
   "cell_type": "markdown",
   "metadata": {},
   "source": [
    "## EXCEPTIONS"
   ]
  },
  {
   "cell_type": "markdown",
   "metadata": {},
   "source": [
    "**Exceptions** in Python are events that occur during the execution of a program that disrupt the normal flow of the program's instructions. In general, when a Python script encounters a situation that it cannot cope with, it raises an exception. An exception is a Python object that represents an error.\n",
    "\n",
    "When a Python script raises an exception, it must either handle the exception immediately otherwise it terminates and quits.\n",
    "\n",
    "Here's a simple example of an exception:\n",
    "\n"
   ]
  },
  {
   "cell_type": "code",
   "execution_count": 8,
   "metadata": {},
   "outputs": [
    {
     "name": "stdout",
     "output_type": "stream",
     "text": [
      "You can't divide by zero!\n"
     ]
    }
   ],
   "source": [
    "try:\n",
    "    # This code will raise a ZeroDivisionError\n",
    "    result = 10 / 0\n",
    "except ZeroDivisionError:\n",
    "    print(\"You can't divide by zero!\")"
   ]
  },
  {
   "cell_type": "markdown",
   "metadata": {},
   "source": [
    "In this example, dividing by zero raises a `ZeroDivisionError` exception which is a builtin exception you can create your own excpetions too. Here is the list of python built in exceptions: https://docs.python.org/3/library/exceptions.html. The `try` block encloses the code that might raise an exception. If an exception is raised, the `except` block is executed. In this case, it prints a message and the program continues to run. If the `try` block was not there, the program would terminate when it encountered the exception."
   ]
  },
  {
   "cell_type": "markdown",
   "metadata": {},
   "source": [
    "In Python, you can define your own exceptions by creating a new class. This exception class has to be derived, either directly or indirectly, from Python's built-in `Exception` class. Most exceptions are defined with names that end in \"Error\", similar to the naming of the standard exceptions in Python.\n",
    "\n",
    "Here's an example of creating a custom exception:\n",
    "\n",
    "```python\n",
    "class MyCustomError(Exception):\n",
    "    pass\n",
    "\n",
    "try:\n",
    "    raise MyCustomError(\"This is a custom exception\")\n",
    "except MyCustomError as e:\n",
    "    print(e)\n",
    "``` \n",
    "\n",
    "\n",
    "In this example, `MyCustomError` is a new type of exception that you've defined. It doesn't add any new behavior to the `Exception` class, it just creates a new name for a type of exception. This can be useful for making your code more descriptive and easier to understand.\n",
    "\n",
    "You can also add additional behavior to your exception class. For example, you might want to include an error code in your exception that describes the type of error that occurred:\n",
    "\n",
    "```python\n",
    "class MyCustomError(Exception):\n",
    "    def __init__(self, message, code):\n",
    "        super().__init__(message)\n",
    "        self.code = code\n",
    "\n",
    "try:\n",
    "    raise MyCustomError(\"This is a custom exception\", 123)\n",
    "except MyCustomError as e:\n",
    "    print(f\"{e} Error code: {e.code}\")\n",
    "```\n",
    "\n",
    "\n",
    "In this example, `MyCustomError` is a new type of exception that you've defined. It doesn't add any new behavior to the `Exception` class, it just creates a new name for a type of exception. This can be useful for making your code more descriptive and easier to understand.\n",
    "\n",
    "You can also add additional behavior to your exception class. For example, you might want to include an error code in your exception that describes the type of error that occurred:\n",
    "\n",
    "In this example, `MyCustomError` takes an additional `code` parameter that is stored on the exception object. This code is then printed out when the exception is caught."
   ]
  },
  {
   "cell_type": "markdown",
   "metadata": {},
   "source": [
    "\n",
    "**Task 1: File Handling with Exceptions**\n",
    "\n",
    "Write a Python program that performs the following tasks:\n",
    "\n",
    "1. Prompt the user to enter the name of a text file.\n",
    "2. Open the file and print its contents to the console.\n",
    "3. Count the number of lines, words, and characters in the file and print these counts to the console.\n",
    "\n",
    "Your program should handle the following exceptions:\n",
    "\n",
    "1. `FileNotFoundError`: This exception should be raised when the user enters the name of a file that does not exist. Your program should catch this exception and print a friendly error message.\n",
    "\n",
    "2. `PermissionError`: This exception should be raised when the program does not have the necessary permissions to open the file. Your program should catch this exception and print a friendly error message.\n",
    "\n",
    "**HINT**: Check the exception library of Python\n",
    "\n"
   ]
  },
  {
   "cell_type": "markdown",
   "metadata": {},
   "source": [
    "\n",
    "\n",
    "Test your program with different inputs to make sure it handles both types of exceptions correctly."
   ]
  },
  {
   "cell_type": "markdown",
   "metadata": {},
   "source": [
    "## OS MODULE"
   ]
  },
  {
   "cell_type": "markdown",
   "metadata": {},
   "source": [
    "The **`os` module** in Python provides functions for interacting with the operating system. This module comes under Python’s standard utility modules. All functions in `os` module raise `OSError` in the case of invalid or inaccessible file names and paths, or other arguments that have the correct type, but are not accepted by the operating system.\n",
    "\n",
    "Here are some common uses of the `os` module:\n",
    "\n",
    "1. **File and Directory Access**: You can use functions like `os.remove()`, `os.rename()`, `os.mkdir()`, `os.getcwd()`, `os.listdir()`, etc.\n",
    "\n"
   ]
  },
  {
   "cell_type": "code",
   "execution_count": 9,
   "metadata": {},
   "outputs": [
    {
     "name": "stdout",
     "output_type": "stream",
     "text": [
      "/home/eumsheh/Python\n",
      "['week6.ipynb', 'week5.ipynb', 'main.py', 'Week2.ipynb', 'Week4.ipynb', '.venv', 'Week 3 (1).ipynb', '.vscode', 'Week 3.ipynb', '.ipynb_checkpoints', 'python.py', 'hello_name_pkg']\n"
     ]
    }
   ],
   "source": [
    "import os\n",
    "\n",
    "# Get the current working directory\n",
    "print(os.getcwd())  # Output: /path/to/current/directory\n",
    "\n",
    "# List all files and directories in the current directory\n",
    "print(os.listdir())  # Output: ['file1.txt', 'file2.txt', 'dir1', 'dir2']"
   ]
  },
  {
   "cell_type": "markdown",
   "metadata": {},
   "source": [
    "\n",
    "\n",
    "2. **Process Parameters**: These functions are used to manage the process parameters like process ID, user ID, etc.\n",
    "\n"
   ]
  },
  {
   "cell_type": "code",
   "execution_count": null,
   "metadata": {},
   "outputs": [],
   "source": [
    "import os\n",
    "\n",
    "# Get the current process ID\n",
    "print(os.getpid())  # Output: 12345 (this will be different on your system)"
   ]
  },
  {
   "cell_type": "markdown",
   "metadata": {},
   "source": [
    "\n",
    "\n",
    "3. **Miscellaneous OS Interfaces**: These functions provide a portable way of using operating system dependent functionality like reading environment variables, managing files, etc.\n",
    "\n"
   ]
  },
  {
   "cell_type": "code",
   "execution_count": 10,
   "metadata": {},
   "outputs": [
    {
     "name": "stdout",
     "output_type": "stream",
     "text": [
      "/home/eumsheh/Python/.venv/bin:/usr/local/sbin:/usr/local/bin:/usr/sbin:/usr/bin:/sbin:/bin:/usr/games:/usr/local/games:/snap/bin:/snap/bin:/usr/bin:/opt/puppetlabs/bin:/home/student/.linkerd2/bin:/home/eumsheh/.linkerd2/bin:/home/eumsheh/.linkerd2/bin\n"
     ]
    }
   ],
   "source": [
    "import os\n",
    "\n",
    "# Get the value of an environment variable\n",
    "print(os.getenv('PATH'))  # Output: /usr/bin:/bin:/usr/sbin:/sbin (this will be different on your system)"
   ]
  },
  {
   "cell_type": "markdown",
   "metadata": {},
   "source": [
    "\n",
    "\n",
    "Remember, the `os` module is a way to perform operating system dependent operations, so the functionality provided by this module varies based on the underlying operating system."
   ]
  },
  {
   "cell_type": "markdown",
   "metadata": {},
   "source": [
    "**Task: File Explorer with Python's os module**\n",
    "\n",
    "Write a Python program that performs the following tasks:\n",
    "\n",
    "1. Prompt the user to enter a directory path.\n",
    "2. Use the `os` module to list all files and directories in the given directory.\n",
    "3. For each file, print out the file size in bytes.\n",
    "4. For each directory, print out the number of files in that directory.\n",
    "\n",
    "**HINT**: Check the os module and os.path module\n",
    "\n"
   ]
  },
  {
   "cell_type": "markdown",
   "metadata": {},
   "source": [
    "\n",
    "\n",
    "Test your program with different inputs to make sure it handles both files and directories correctly."
   ]
  },
  {
   "cell_type": "markdown",
   "metadata": {},
   "source": [
    "## DateTime Module"
   ]
  },
  {
   "cell_type": "markdown",
   "metadata": {},
   "source": [
    "The `datetime` module in Python is used for dealing with real dates and times. It provides classes for manipulating dates and times in a more straightforward way.\n",
    "\n",
    "Here are some of the classes provided by the `datetime` module:\n",
    "\n",
    "1. **datetime**: A combination of a date and a time.\n",
    "\n"
   ]
  },
  {
   "cell_type": "code",
   "execution_count": null,
   "metadata": {},
   "outputs": [],
   "source": [
    "from datetime import datetime\n",
    "\n",
    "# Get the current date and time\n",
    "now = datetime.now()\n",
    "print(now)  # Output: 2022-01-01 12:00:00.000000 (this will be different on your system)"
   ]
  },
  {
   "cell_type": "markdown",
   "metadata": {},
   "source": [
    "\n",
    "\n",
    "2. **date**: An idealized naive date, assuming the Gregorian calendar.\n",
    "\n"
   ]
  },
  {
   "cell_type": "code",
   "execution_count": null,
   "metadata": {},
   "outputs": [],
   "source": [
    "from datetime import date\n",
    "\n",
    "# Get the current date\n",
    "today = date.today()\n",
    "print(today)  # Output: 2022-01-01 (this will be different on your system)"
   ]
  },
  {
   "cell_type": "markdown",
   "metadata": {},
   "source": [
    "\n",
    "\n",
    "3. **time**: An idealized time, independent of any particular day.\n",
    "\n"
   ]
  },
  {
   "cell_type": "code",
   "execution_count": null,
   "metadata": {},
   "outputs": [],
   "source": [
    "from datetime import time\n",
    "\n",
    "# Define a time\n",
    "t = time(12, 34, 56)\n",
    "print(t)  # Output: 12:34:56"
   ]
  },
  {
   "cell_type": "markdown",
   "metadata": {},
   "source": [
    "\n",
    "\n",
    "4. **timedelta**: A duration expressing the difference between two `date`, `time`, or `datetime` instances to microsecond resolution.\n",
    "\n"
   ]
  },
  {
   "cell_type": "code",
   "execution_count": null,
   "metadata": {},
   "outputs": [],
   "source": [
    "from datetime import datetime, timedelta\n",
    "\n",
    "# Get the current date and time\n",
    "now = datetime.now()\n",
    "\n",
    "# Calculate the date and time one week ago\n",
    "one_week_ago = now - timedelta(weeks=1)\n",
    "print(one_week_ago)  # Output: 2021-12-25 12:00:00.000000 (this will be different on your system)"
   ]
  },
  {
   "cell_type": "markdown",
   "metadata": {},
   "source": [
    "\n",
    "\n",
    "These classes provide a number of functions to deal with dates, times, and time intervals. For example, you can calculate the difference between two dates, format dates and times as strings, etc."
   ]
  },
  {
   "cell_type": "markdown",
   "metadata": {},
   "source": [
    "**Task: Event Countdown**\n",
    "\n",
    "Write a Python program that performs the following tasks:\n",
    "\n",
    "1. Prompt the user to enter a date for an upcoming event (in the format YYYY-MM-DD).\n",
    "2. Use the `datetime` module to calculate how many days are left until the event.\n",
    "3. Print a message to the user telling them how many days are left until the event.\n",
    "\n",
    "\n",
    "\n",
    "Test your program with different inputs to make sure it correctly calculates the number of days until the event. Be sure to handle the case where the event date is in the past.\n"
   ]
  }
 ],
 "metadata": {
  "kernelspec": {
   "display_name": "Python 3 (ipykernel)",
   "language": "python",
   "name": "python3"
  },
  "language_info": {
   "codemirror_mode": {
    "name": "ipython",
    "version": 3
   },
   "file_extension": ".py",
   "mimetype": "text/x-python",
   "name": "python",
   "nbconvert_exporter": "python",
   "pygments_lexer": "ipython3",
   "version": "3.12.2"
  }
 },
 "nbformat": 4,
 "nbformat_minor": 4
}
