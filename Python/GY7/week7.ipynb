{
 "cells": [
  {
   "cell_type": "markdown",
   "metadata": {},
   "source": [
    "## Midterm Exam and Warm up lab 7 \n",
    "\n",
    "Please do mid term exam and warm up lab 7. You have 35 mins in total to do it. Good Luck"
   ]
  },
  {
   "cell_type": "markdown",
   "metadata": {},
   "source": [
    "## COMMUNICATION METHOD\n",
    "\n",
    "HTTP stands for Hypertext Transfer Protocol. It's a protocol used for transmitting hypertext (structured text that uses logical links) over the internet. HTTP is the foundation of any data exchange on the Web, and it is a protocol used by a client and server.\n",
    "\n",
    "Here are some key points about HTTP:\n",
    "\n",
    "1. **Stateless:** Each command is executed independently, without any knowledge of the commands that came before it. This is important because it allows for speed and efficiency.\n",
    "\n",
    "2. **Client-Server Model:** The client sends an HTTP request, and the server sends back an HTTP response. The client is always the initiator of requests; the server responds to these requests.\n",
    "\n",
    "3. **HTTP Messages:** HTTP messages are how data is exchanged between a server and a client. There are two types of messages: requests sent by the client to trigger an action on the server, and responses, the answer from the server.\n",
    "\n",
    "4. **HTTP Methods:** The HTTP standard provides several methods (sometimes referred to as 'verbs') that guide the interaction with resources in a server. The most common are GET (retrieve a resource), POST (send data to the server), PUT (update a resource), DELETE (remove a resource), and HEAD (similar to GET but retrieves only headers, not the body of the resource).\n",
    "\n",
    "5. **HTTP Status Codes:** These are issued by a server in response to a client's request. They include: 1xx (informational), 2xx (success), 3xx (redirection), 4xx (client errors), and 5xx (server errors). For example, \"200\" means \"OK\", \"404\" means \"Not Found\", and \"500\" means \"Internal Server Error\".\n",
    "\n",
    "6. **HTTP Headers:** These carry information about the request or the response, or about the object sent in the message body. They define the operating parameters of an HTTP transaction.\n",
    "\n",
    "7. **HTTPS:** This is HTTP with encryption. The protocol uses SSL or TLS to provide end-to-end security. It's used to protect sensitive information like credit card numbers or login credentials.\n",
    "\n",
    "Here's a simple example of an HTTP request and response:\n",
    "\n",
    "**HTTP Request:**\n",
    "\n",
    "GET /index.html HTTP/1.1\n",
    "Host: www.example.com\n",
    "\n",
    "\n",
    "\n",
    "**HTTP Response:**\n",
    "\n",
    "HTTP/1.1 200 OK\n",
    "Date: Mon, 23 May 2005 22:38:34 GMT\n",
    "Content-Type: text/html; charset=UTF-8\n",
    "Content-Length: 138\n",
    "Last-Modified: Wed, 08 Jan 2003 23:11:55 GMT\n",
    "Server: Apache/1.3.3.7 (Unix) (Red-Hat/Linux)\n",
    "ETag: \"3f80f-1b6-3e1cb03b\"\n",
    "Accept-Ranges: bytes\n",
    "Connection: close\n",
    "\n",
    "<html>\n",
    "<head>\n",
    "  <title>An Example Page</title>\n",
    "</head>\n",
    "<body>\n",
    "  Hello World, this is a very simple HTML document.\n",
    "</body>\n",
    "</html>\n",
    "\n",
    "In this example, the client sends a GET request to the server asking for the 'index.html' file. The server responds with a 200 OK status, indicating that the request was successful, and returns the requested file."
   ]
  },
  {
   "cell_type": "markdown",
   "metadata": {},
   "source": [
    "Frontend and backend communicate with each other using HTTP (Hypertext Transfer Protocol) requests and responses. Here's a simplified explanation:\n",
    "\n",
    "1. The frontend (client-side) makes an HTTP request to the backend (server-side). This request can be of various types like GET, POST, PUT, DELETE, etc. The request may also contain data (like form data or JSON data) if it's a POST or PUT request.\n",
    "\n",
    "2. The backend receives this request, processes it (like reading from a database, writing to a database, or performing some calculations), and then sends back an HTTP response. This response contains the status of the request (like 200 for success, 404 for not found, etc.) and any data that needs to be sent back to the frontend.\n",
    "\n",
    "3. The frontend receives this response, processes it, and updates the UI accordingly.\n",
    "\n",
    "Here's a simple example in Python using Flask for the backend and JavaScript's Fetch API for the frontend:\n",
    "\n",
    "**Backend (Flask):**\n"
   ]
  },
  {
   "cell_type": "code",
   "execution_count": 8,
   "metadata": {},
   "outputs": [],
   "source": [
    "from flask import Flask, jsonify\n",
    "\n",
    "app = Flask(__name__)\n",
    "\n",
    "@app.route('/api/data', methods=['GET'])\n",
    "def get_data():\n",
    "    data = {\"key\": \"value\"}  # This could be any data you want to send\n",
    "    return jsonify(data), 200"
   ]
  },
  {
   "cell_type": "markdown",
   "metadata": {},
   "source": [
    "\n",
    "\n",
    "**Frontend (JavaScript Fetch API):**\n"
   ]
  },
  {
   "cell_type": "code",
   "execution_count": null,
   "metadata": {
    "vscode": {
     "languageId": "javascript"
    }
   },
   "outputs": [],
   "source": [
    "fetch('/api/data')\n",
    "    .then(response => response.json())\n",
    "    .then(data => console.log(data))\n",
    "    .catch((error) => console.error('Error:', error));"
   ]
  },
  {
   "cell_type": "markdown",
   "metadata": {},
   "source": [
    "\n",
    "\n",
    "In this example, the frontend makes a GET request to '/api/data', the backend processes this request, and sends back a JSON response which the frontend then logs to the console."
   ]
  },
  {
   "cell_type": "markdown",
   "metadata": {},
   "source": [
    "Sure, here are examples of handling GET, POST, PUT, and DELETE requests using Flask, a Python web framework:\n",
    "\n",
    "**GET Request:**\n"
   ]
  },
  {
   "cell_type": "code",
   "execution_count": 9,
   "metadata": {},
   "outputs": [],
   "source": [
    "from flask import Flask, jsonify\n",
    "\n",
    "app = Flask(__name__)\n",
    "\n",
    "@app.route('/posts/<int:post_id>', methods=['GET'])\n",
    "def get_post(post_id):\n",
    "    # Here you would usually fetch the post from your database.\n",
    "    # This is a placeholder example.\n",
    "    post = {\"id\": post_id, \"title\": \"Example title\", \"content\": \"Example content\"}\n",
    "    return jsonify(post)"
   ]
  },
  {
   "cell_type": "markdown",
   "metadata": {},
   "source": [
    "This route handles GET requests for a specific post by ID.\n",
    "\n",
    "**POST Request:**\n"
   ]
  },
  {
   "cell_type": "code",
   "execution_count": 10,
   "metadata": {},
   "outputs": [],
   "source": [
    "from flask import Flask, request, jsonify\n",
    "\n",
    "app = Flask(__name__)\n",
    "\n",
    "@app.route('/posts', methods=['POST'])\n",
    "def create_post():\n",
    "    # Here you would usually create a new post in your database.\n",
    "    # This is a placeholder example.\n",
    "    post = request.get_json()\n",
    "    return jsonify(post), 201"
   ]
  },
  {
   "cell_type": "markdown",
   "metadata": {},
   "source": [
    "This route handles POST requests to create a new post.\n",
    "\n",
    "**PUT Request:**\n"
   ]
  },
  {
   "cell_type": "code",
   "execution_count": 11,
   "metadata": {},
   "outputs": [],
   "source": [
    "from flask import Flask, request, jsonify\n",
    "\n",
    "app = Flask(__name__)\n",
    "\n",
    "@app.route('/posts/<int:post_id>', methods=['PUT'])\n",
    "def update_post(post_id):\n",
    "    # Here you would usually update the post in your database.\n",
    "    # This is a placeholder example.\n",
    "    updated_post = request.get_json()\n",
    "    updated_post[\"id\"] = post_id\n",
    "    return jsonify(updated_post)"
   ]
  },
  {
   "cell_type": "markdown",
   "metadata": {},
   "source": [
    "This route handles PUT requests to update a specific post by ID.\n",
    "\n",
    "**DELETE Request:**\n"
   ]
  },
  {
   "cell_type": "code",
   "execution_count": 12,
   "metadata": {},
   "outputs": [],
   "source": [
    "from flask import Flask, jsonify\n",
    "\n",
    "app = Flask(__name__)\n",
    "\n",
    "@app.route('/posts/<int:post_id>', methods=['DELETE'])\n",
    "def delete_post(post_id):\n",
    "    # Here you would usually delete the post from your database.\n",
    "    # This is a placeholder example.\n",
    "    return jsonify({\"message\": f\"Post {post_id} deleted.\"})"
   ]
  },
  {
   "cell_type": "markdown",
   "metadata": {},
   "source": [
    "This route handles DELETE requests to delete a specific post by ID.\n",
    "\n",
    "Please note that these are simplified examples. In a real-world application, you would need to interact with a database to fetch, create, update, or delete posts."
   ]
  },
  {
   "cell_type": "markdown",
   "metadata": {},
   "source": [
    "**References**:\n",
    "\n",
    "                API : https://aws.amazon.com/what-is/api/\n",
    "                Flask: https://flask.palletsprojects.com/en/3.0.x/\n",
    "                HTTP Requests: https://www.w3schools.com/tags/ref_httpmethods.asp\n",
    "                Backend and frontend communication: https://www.geeksforgeeks.org/how-to-connect-front-end-and-backend/\n"
   ]
  },
  {
   "cell_type": "markdown",
   "metadata": {},
   "source": [
    "## Assignment\n"
   ]
  },
  {
   "cell_type": "markdown",
   "metadata": {},
   "source": [
    "Here is the github project link: https://github.com/amhkhowaja/patients-portal-for-students\n",
    "You need to submit the assignment untill 15 March midnight."
   ]
  },
  {
   "cell_type": "markdown",
   "metadata": {},
   "source": []
  }
 ],
 "metadata": {
  "language_info": {
   "name": "python"
  }
 },
 "nbformat": 4,
 "nbformat_minor": 2
}
